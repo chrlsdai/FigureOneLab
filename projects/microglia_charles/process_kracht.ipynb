{
 "cells": [
  {
   "cell_type": "code",
   "execution_count": 1,
   "metadata": {},
   "outputs": [],
   "source": [
    "%load_ext autoreload\n",
    "%autoreload 1"
   ]
  },
  {
   "cell_type": "code",
   "execution_count": 2,
   "metadata": {},
   "outputs": [],
   "source": [
    "%%capture\n",
    "import os\n",
    "import numpy as np\n",
    "import pandas as pd\n",
    "import scanpy as sc\n",
    "import scipy as sp\n",
    "import anndata\n",
    "from tqdm.notebook import tqdm\n",
    "from utilities import sampleQC"
   ]
  },
  {
   "cell_type": "code",
   "execution_count": 3,
   "metadata": {},
   "outputs": [
    {
     "data": {
      "text/plain": [
       "'/Users/charlesdai/dev/FigureOneLab/projects/microglia_charles'"
      ]
     },
     "execution_count": 3,
     "metadata": {},
     "output_type": "execute_result"
    }
   ],
   "source": [
    "cwd = os.getcwd()\n",
    "cwd"
   ]
  },
  {
   "cell_type": "code",
   "execution_count": 4,
   "metadata": {},
   "outputs": [
    {
     "data": {
      "text/html": [
       "<div>\n",
       "<style scoped>\n",
       "    .dataframe tbody tr th:only-of-type {\n",
       "        vertical-align: middle;\n",
       "    }\n",
       "\n",
       "    .dataframe tbody tr th {\n",
       "        vertical-align: top;\n",
       "    }\n",
       "\n",
       "    .dataframe thead th {\n",
       "        text-align: right;\n",
       "    }\n",
       "</style>\n",
       "<table border=\"1\" class=\"dataframe\">\n",
       "  <thead>\n",
       "    <tr style=\"text-align: right;\">\n",
       "      <th></th>\n",
       "      <th>Sample Name</th>\n",
       "      <th>donor/fetus</th>\n",
       "      <th>ID</th>\n",
       "      <th>Gestational age (weeks + days)</th>\n",
       "      <th>Gestational week</th>\n",
       "      <th>Sex</th>\n",
       "      <th>ATAC</th>\n",
       "      <th>Single cell</th>\n",
       "    </tr>\n",
       "  </thead>\n",
       "  <tbody>\n",
       "    <tr>\n",
       "      <th>0</th>\n",
       "      <td>GSM4214849</td>\n",
       "      <td>2018-32</td>\n",
       "      <td>2018-32</td>\n",
       "      <td>9+4</td>\n",
       "      <td>9</td>\n",
       "      <td>F</td>\n",
       "      <td>Y</td>\n",
       "      <td>Y</td>\n",
       "    </tr>\n",
       "    <tr>\n",
       "      <th>1</th>\n",
       "      <td>GSM4214850</td>\n",
       "      <td>2018-33</td>\n",
       "      <td>2018-33</td>\n",
       "      <td>10+6</td>\n",
       "      <td>10</td>\n",
       "      <td>F</td>\n",
       "      <td>Y</td>\n",
       "      <td>N</td>\n",
       "    </tr>\n",
       "    <tr>\n",
       "      <th>2</th>\n",
       "      <td>GSM4214851</td>\n",
       "      <td>2018-34</td>\n",
       "      <td>2018-34</td>\n",
       "      <td>16+0</td>\n",
       "      <td>16</td>\n",
       "      <td>F</td>\n",
       "      <td>Y</td>\n",
       "      <td>Y</td>\n",
       "    </tr>\n",
       "    <tr>\n",
       "      <th>3</th>\n",
       "      <td>GSM4214852</td>\n",
       "      <td>2018-36</td>\n",
       "      <td>2018-36</td>\n",
       "      <td>11+3</td>\n",
       "      <td>11</td>\n",
       "      <td>M</td>\n",
       "      <td>Y</td>\n",
       "      <td>Y</td>\n",
       "    </tr>\n",
       "    <tr>\n",
       "      <th>4</th>\n",
       "      <td>GSM4214853</td>\n",
       "      <td>2018-37</td>\n",
       "      <td>2018-37</td>\n",
       "      <td>15+0</td>\n",
       "      <td>15</td>\n",
       "      <td>F</td>\n",
       "      <td>Y</td>\n",
       "      <td>Y</td>\n",
       "    </tr>\n",
       "  </tbody>\n",
       "</table>\n",
       "</div>"
      ],
      "text/plain": [
       "  Sample Name donor/fetus       ID Gestational age (weeks + days)  \\\n",
       "0  GSM4214849     2018-32  2018-32                            9+4   \n",
       "1  GSM4214850     2018-33  2018-33                           10+6   \n",
       "2  GSM4214851     2018-34  2018-34                           16+0   \n",
       "3  GSM4214852     2018-36  2018-36                           11+3   \n",
       "4  GSM4214853     2018-37  2018-37                           15+0   \n",
       "\n",
       "   Gestational week Sex ATAC Single cell  \n",
       "0                 9   F    Y           Y  \n",
       "1                10   F    Y           N  \n",
       "2                16   F    Y           Y  \n",
       "3                11   M    Y           Y  \n",
       "4                15   F    Y           Y  "
      ]
     },
     "execution_count": 4,
     "metadata": {},
     "output_type": "execute_result"
    }
   ],
   "source": [
    "sample_donor = pd.read_csv(os.path.join(cwd, \"data/kracht/SraRunTable.txt\"))[[\"Sample Name\", \"donor/fetus\"]]\n",
    "donor_meta = pd.read_excel(os.path.join(cwd, \"data/kracht/aba5906_tables_s1_s10.xlsx\"), sheet_name=0, header=1)\n",
    "sample_meta = sample_donor.merge(donor_meta, left_on=\"donor/fetus\", right_on=\"ID\", how=\"inner\")\n",
    "sample_meta.head()"
   ]
  },
  {
   "cell_type": "code",
   "execution_count": 5,
   "metadata": {},
   "outputs": [
    {
     "data": {
      "text/html": [
       "<div>\n",
       "<style scoped>\n",
       "    .dataframe tbody tr th:only-of-type {\n",
       "        vertical-align: middle;\n",
       "    }\n",
       "\n",
       "    .dataframe tbody tr th {\n",
       "        vertical-align: top;\n",
       "    }\n",
       "\n",
       "    .dataframe thead th {\n",
       "        text-align: right;\n",
       "    }\n",
       "</style>\n",
       "<table border=\"1\" class=\"dataframe\">\n",
       "  <thead>\n",
       "    <tr style=\"text-align: right;\">\n",
       "      <th></th>\n",
       "      <th>SampleID</th>\n",
       "      <th>PatientID</th>\n",
       "      <th>AgeDay</th>\n",
       "      <th>Sex</th>\n",
       "    </tr>\n",
       "  </thead>\n",
       "  <tbody>\n",
       "    <tr>\n",
       "      <th>0</th>\n",
       "      <td>GSM4214849</td>\n",
       "      <td>2018-32</td>\n",
       "      <td>67</td>\n",
       "      <td>F</td>\n",
       "    </tr>\n",
       "    <tr>\n",
       "      <th>1</th>\n",
       "      <td>GSM4214850</td>\n",
       "      <td>2018-33</td>\n",
       "      <td>76</td>\n",
       "      <td>F</td>\n",
       "    </tr>\n",
       "    <tr>\n",
       "      <th>2</th>\n",
       "      <td>GSM4214851</td>\n",
       "      <td>2018-34</td>\n",
       "      <td>112</td>\n",
       "      <td>F</td>\n",
       "    </tr>\n",
       "    <tr>\n",
       "      <th>3</th>\n",
       "      <td>GSM4214852</td>\n",
       "      <td>2018-36</td>\n",
       "      <td>80</td>\n",
       "      <td>M</td>\n",
       "    </tr>\n",
       "    <tr>\n",
       "      <th>4</th>\n",
       "      <td>GSM4214853</td>\n",
       "      <td>2018-37</td>\n",
       "      <td>105</td>\n",
       "      <td>F</td>\n",
       "    </tr>\n",
       "  </tbody>\n",
       "</table>\n",
       "</div>"
      ],
      "text/plain": [
       "     SampleID PatientID  AgeDay Sex\n",
       "0  GSM4214849   2018-32      67   F\n",
       "1  GSM4214850   2018-33      76   F\n",
       "2  GSM4214851   2018-34     112   F\n",
       "3  GSM4214852   2018-36      80   M\n",
       "4  GSM4214853   2018-37     105   F"
      ]
     },
     "execution_count": 5,
     "metadata": {},
     "output_type": "execute_result"
    }
   ],
   "source": [
    "def to_days(age):\n",
    "    weeks, days = map(int, age.split(\"+\"))\n",
    "    return weeks * 7 + days\n",
    "sample_meta = sample_meta.rename(columns={\"Sample Name\":\"SampleID\", \"ID\":\"PatientID\", \"Gestational age (weeks + days)\":\"AgeDay\"})\n",
    "sample_meta = sample_meta[[\"SampleID\", \"PatientID\", \"AgeDay\", \"Sex\"]]\n",
    "sample_meta[\"AgeDay\"] = sample_meta[\"AgeDay\"].apply(to_days)\n",
    "sample_meta.head()"
   ]
  },
  {
   "cell_type": "code",
   "execution_count": 12,
   "metadata": {},
   "outputs": [],
   "source": [
    "ensembl_map = sc.queries.biomart_annotations(\"hsapiens\", [\"ensembl_gene_id\", \"hgnc_symbol\"])\n",
    "ensembl_map = ensembl_map.set_index(\"ensembl_gene_id\")[\"hgnc_symbol\"].to_dict()"
   ]
  },
  {
   "cell_type": "code",
   "execution_count": 13,
   "metadata": {},
   "outputs": [],
   "source": [
    "filenames = [fname for fname in os.listdir('data/kracht/GSE141862_RAW') if 'completeCounts' in fname]"
   ]
  },
  {
   "cell_type": "code",
   "execution_count": 15,
   "metadata": {},
   "outputs": [],
   "source": [
    "def process_sample(fname, log=False):\n",
    "    sample_name = fname[:10]\n",
    "    counts = pd.read_csv(\n",
    "        os.path.join(cwd, os.path.join(\"data/kracht/GSE141862_RAW\", fname)), \n",
    "        compression=\"gzip\", sep=\"\\t\", header=0\n",
    "    ).set_index(\"gene\")\n",
    "\n",
    "    # Set names\n",
    "    counts.index.name = \"Gene\"\n",
    "    counts.columns.name = \"Barcode\"\n",
    "\n",
    "    # Map gene names to HGNC, delete duplicates\n",
    "    counts.index = counts.index.map(ensembl_map)\n",
    "    counts = counts[counts.index.notna()]\n",
    "    counts = counts[~counts.index.duplicated()]\n",
    "    counts = counts.transpose()\n",
    "\n",
    "    # Create anndata object and set to sparse matrix\n",
    "    adata = anndata.AnnData(counts)\n",
    "    adata.X = sp.sparse.csr_matrix(adata.X)\n",
    "\n",
    "    # Create observation matrix\n",
    "    meta = sample_meta[sample_meta[\"SampleID\"] == sample_name]\n",
    "    adata.obs = pd.DataFrame(data=np.repeat(meta.values, adata.obs.shape[0], axis=0), index=adata.obs.index, columns=meta.columns)\n",
    "    return adata"
   ]
  },
  {
   "cell_type": "code",
   "execution_count": 31,
   "metadata": {},
   "outputs": [
    {
     "data": {
      "application/vnd.jupyter.widget-view+json": {
       "model_id": "53c9fe34651a4da699c397322f1a0204",
       "version_major": 2,
       "version_minor": 0
      },
      "text/plain": [
       "  0%|          | 0/239 [00:00<?, ?it/s]"
      ]
     },
     "metadata": {},
     "output_type": "display_data"
    },
    {
     "name": "stdout",
     "output_type": "stream",
     "text": [
      "AnnData object with n_obs × n_vars = 81 × 14038\n",
      "    obs: 'SampleID', 'PatientID', 'AgeDay', 'Sex'\n"
     ]
    },
    {
     "data": {
      "text/html": [
       "<div>\n",
       "<style scoped>\n",
       "    .dataframe tbody tr th:only-of-type {\n",
       "        vertical-align: middle;\n",
       "    }\n",
       "\n",
       "    .dataframe tbody tr th {\n",
       "        vertical-align: top;\n",
       "    }\n",
       "\n",
       "    .dataframe thead th {\n",
       "        text-align: right;\n",
       "    }\n",
       "</style>\n",
       "<table border=\"1\" class=\"dataframe\">\n",
       "  <thead>\n",
       "    <tr style=\"text-align: right;\">\n",
       "      <th></th>\n",
       "      <th>SampleID</th>\n",
       "      <th>PatientID</th>\n",
       "      <th>AgeDay</th>\n",
       "      <th>Sex</th>\n",
       "    </tr>\n",
       "    <tr>\n",
       "      <th>Barcode</th>\n",
       "      <th></th>\n",
       "      <th></th>\n",
       "      <th></th>\n",
       "      <th></th>\n",
       "    </tr>\n",
       "  </thead>\n",
       "  <tbody>\n",
       "    <tr>\n",
       "      <th>AAATACACTC</th>\n",
       "      <td>GSM4214916</td>\n",
       "      <td>2018-42</td>\n",
       "      <td>105</td>\n",
       "      <td>F</td>\n",
       "    </tr>\n",
       "    <tr>\n",
       "      <th>AACCATCTGG</th>\n",
       "      <td>GSM4214916</td>\n",
       "      <td>2018-42</td>\n",
       "      <td>105</td>\n",
       "      <td>F</td>\n",
       "    </tr>\n",
       "    <tr>\n",
       "      <th>AAGACGTGAG</th>\n",
       "      <td>GSM4214916</td>\n",
       "      <td>2018-42</td>\n",
       "      <td>105</td>\n",
       "      <td>F</td>\n",
       "    </tr>\n",
       "    <tr>\n",
       "      <th>AAGCATCGAG</th>\n",
       "      <td>GSM4214916</td>\n",
       "      <td>2018-42</td>\n",
       "      <td>105</td>\n",
       "      <td>F</td>\n",
       "    </tr>\n",
       "    <tr>\n",
       "      <th>AATAATATCG</th>\n",
       "      <td>GSM4214916</td>\n",
       "      <td>2018-42</td>\n",
       "      <td>105</td>\n",
       "      <td>F</td>\n",
       "    </tr>\n",
       "    <tr>\n",
       "      <th>...</th>\n",
       "      <td>...</td>\n",
       "      <td>...</td>\n",
       "      <td>...</td>\n",
       "      <td>...</td>\n",
       "    </tr>\n",
       "    <tr>\n",
       "      <th>TGTTGAGCTA</th>\n",
       "      <td>GSM4214916</td>\n",
       "      <td>2018-42</td>\n",
       "      <td>105</td>\n",
       "      <td>F</td>\n",
       "    </tr>\n",
       "    <tr>\n",
       "      <th>TTAAGACGGA</th>\n",
       "      <td>GSM4214916</td>\n",
       "      <td>2018-42</td>\n",
       "      <td>105</td>\n",
       "      <td>F</td>\n",
       "    </tr>\n",
       "    <tr>\n",
       "      <th>TTAATCACTA</th>\n",
       "      <td>GSM4214916</td>\n",
       "      <td>2018-42</td>\n",
       "      <td>105</td>\n",
       "      <td>F</td>\n",
       "    </tr>\n",
       "    <tr>\n",
       "      <th>TTATTTCGTG</th>\n",
       "      <td>GSM4214916</td>\n",
       "      <td>2018-42</td>\n",
       "      <td>105</td>\n",
       "      <td>F</td>\n",
       "    </tr>\n",
       "    <tr>\n",
       "      <th>TTCCGAAACA</th>\n",
       "      <td>GSM4214916</td>\n",
       "      <td>2018-42</td>\n",
       "      <td>105</td>\n",
       "      <td>F</td>\n",
       "    </tr>\n",
       "  </tbody>\n",
       "</table>\n",
       "<p>81 rows × 4 columns</p>\n",
       "</div>"
      ],
      "text/plain": [
       "              SampleID PatientID AgeDay Sex\n",
       "Barcode                                    \n",
       "AAATACACTC  GSM4214916   2018-42    105   F\n",
       "AACCATCTGG  GSM4214916   2018-42    105   F\n",
       "AAGACGTGAG  GSM4214916   2018-42    105   F\n",
       "AAGCATCGAG  GSM4214916   2018-42    105   F\n",
       "AATAATATCG  GSM4214916   2018-42    105   F\n",
       "...                ...       ...    ...  ..\n",
       "TGTTGAGCTA  GSM4214916   2018-42    105   F\n",
       "TTAAGACGGA  GSM4214916   2018-42    105   F\n",
       "TTAATCACTA  GSM4214916   2018-42    105   F\n",
       "TTATTTCGTG  GSM4214916   2018-42    105   F\n",
       "TTCCGAAACA  GSM4214916   2018-42    105   F\n",
       "\n",
       "[81 rows x 4 columns]"
      ]
     },
     "metadata": {},
     "output_type": "display_data"
    }
   ],
   "source": [
    "adatas = []\n",
    "for fname in tqdm(filenames):\n",
    "    adatas.append(process_sample(fname))\n",
    "        \n",
    "print(adatas[0])\n",
    "display(adatas[0].obs)"
   ]
  },
  {
   "cell_type": "code",
   "execution_count": 32,
   "metadata": {},
   "outputs": [
    {
     "name": "stderr",
     "output_type": "stream",
     "text": [
      "/Users/charlesdai/dev/FigureOneLab/.venv/lib/python3.10/site-packages/anndata/_core/anndata.py:1906: UserWarning: Observation names are not unique. To make them unique, call `.obs_names_make_unique`.\n",
      "  utils.warn_names_duplicates(\"obs\")\n"
     ]
    }
   ],
   "source": [
    "adata = anndata.concat(adatas, join=\"outer\", fill_value=0)\n",
    "adata.obs[\"AgeDay\"] = adata.obs[\"AgeDay\"].astype(int)\n",
    "adata.obs_names_make_unique()"
   ]
  },
  {
   "cell_type": "code",
   "execution_count": 35,
   "metadata": {},
   "outputs": [
    {
     "name": "stdout",
     "output_type": "stream",
     "text": [
      "Before QC: 16681 cells, 20325 genes\n",
      "After QC: 16669 cells, 20323 genes\n"
     ]
    },
    {
     "data": {
      "text/plain": [
       "AnnData object with n_obs × n_vars = 16669 × 20323\n",
       "    obs: 'SampleID', 'PatientID', 'AgeDay', 'Sex', 'n_genes', 'n_genes_by_counts', 'total_counts', 'total_counts_mt', 'percent_mt'\n",
       "    var: 'n_cells', 'n_cells_by_counts', 'mean_counts', 'pct_dropout_by_counts', 'total_counts'"
      ]
     },
     "execution_count": 35,
     "metadata": {},
     "output_type": "execute_result"
    }
   ],
   "source": [
    "adata = sampleQC(adata, percent_cells_threshold=0.1, percent_mt_threshold=0)\n",
    "adata"
   ]
  },
  {
   "cell_type": "code",
   "execution_count": 42,
   "metadata": {},
   "outputs": [],
   "source": []
  },
  {
   "cell_type": "code",
   "execution_count": 43,
   "metadata": {},
   "outputs": [],
   "source": [
    "\n",
    "data.write(os.path.join(cwd, \"out/kracht_adata.h5ad\"))"
   ]
  },
  {
   "cell_type": "code",
   "execution_count": 36,
   "metadata": {},
   "outputs": [
    {
     "data": {
      "text/plain": [
       "SampleID     object\n",
       "PatientID    object\n",
       "AgeDay       object\n",
       "Sex          object\n",
       "n_genes      object\n",
       "dtype: object"
      ]
     },
     "execution_count": 36,
     "metadata": {},
     "output_type": "execute_result"
    }
   ],
   "source": [
    "adata.obs = adata.obs.astype(str)\n",
    "adata.obs.dtypes"
   ]
  },
  {
   "cell_type": "code",
   "execution_count": null,
   "metadata": {},
   "outputs": [],
   "source": []
  }
 ],
 "metadata": {
  "kernelspec": {
   "display_name": "Python 3 (ipykernel)",
   "language": "python",
   "name": "python3"
  },
  "language_info": {
   "codemirror_mode": {
    "name": "ipython",
    "version": 3
   },
   "file_extension": ".py",
   "mimetype": "text/x-python",
   "name": "python",
   "nbconvert_exporter": "python",
   "pygments_lexer": "ipython3",
   "version": "3.10.0"
  }
 },
 "nbformat": 4,
 "nbformat_minor": 4
}
